{
 "cells": [
  {
   "cell_type": "code",
   "execution_count": null,
   "metadata": {},
   "outputs": [],
   "source": [
    "from string import ascii_lowercase\n",
    "import random\n",
    "from itertools import combinations\n",
    "import numpy as np"
   ]
  },
  {
   "cell_type": "code",
   "execution_count": null,
   "metadata": {},
   "outputs": [],
   "source": [
    "def creatproblem(n,k,m):\n",
    "        positive_var = list(ascii_lowercase)[:n]\n",
    "        negative_var = [var.upper() for var in positive_var]\n",
    "        variables = positive_var + negative_var\n",
    "        problem = []\n",
    "        threshold = 10       \n",
    "        i = 0\n",
    "        comb = list(combinations(variables,k))\n",
    "        \n",
    "        while i<threshold:\n",
    "            c = random.sample(comb,m)\n",
    "            if c not in problem:\n",
    "                problem.append(c)\n",
    "                i += 1\n",
    "        \n",
    "        problems_new = []\n",
    "        for c in problem:\n",
    "            temp = []\n",
    "            temp = [list(sub) for sub in c]\n",
    "            problems_new.append(temp)\n",
    "        return  variables,problems_new "
   ]
  },
  {
   "cell_type": "code",
   "execution_count": null,
   "metadata": {},
   "outputs": [],
   "source": [
    "def random_assign(variables,n):\n",
    "    litral = list(np.random.choice(2,n))\n",
    "    negation = [abs(i-1) for i in litral]\n",
    "    assign = litral + negation\n",
    "    return dict(zip(variables,assign))"
   ]
  },
  {
   "cell_type": "code",
   "execution_count": null,
   "metadata": {},
   "outputs": [],
   "source": [
    "n = 5\n",
    "k = 3\n",
    "m = 3\n",
    "var,prob = creatproblem(n,k,m)\n",
    "print(var)\n",
    "for i in prob:\n",
    "    print(i)\n",
    "    "
   ]
  },
  {
   "cell_type": "code",
   "execution_count": null,
   "metadata": {},
   "outputs": [],
   "source": [
    "print(random_assign(var,n))"
   ]
  },
  {
   "cell_type": "code",
   "execution_count": null,
   "metadata": {},
   "outputs": [],
   "source": []
  }
 ],
 "metadata": {
  "kernelspec": {
   "display_name": "Python 3",
   "language": "python",
   "name": "python3"
  },
  "language_info": {
   "codemirror_mode": {
    "name": "ipython",
    "version": 3
   },
   "file_extension": ".py",
   "mimetype": "text/x-python",
   "name": "python",
   "nbconvert_exporter": "python",
   "pygments_lexer": "ipython3",
   "version": "3.10.10"
  },
  "vscode": {
   "interpreter": {
    "hash": "6bcdd5b554e336986760cdee4908e37bef9978827d4a09b01c7eb92b20cb0fc1"
   }
  }
 },
 "nbformat": 4,
 "nbformat_minor": 4
}
