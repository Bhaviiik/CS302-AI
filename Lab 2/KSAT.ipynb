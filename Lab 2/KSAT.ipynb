{
 "cells": [
  {
   "cell_type": "code",
   "execution_count": null,
   "metadata": {},
   "outputs": [],
   "source": [
    "from string import ascii_lowercase\n",
    "import random\n",
    "from itertools import combinations\n",
    "import numpy as np"
   ]
  },
  {
   "cell_type": "code",
   "execution_count": null,
   "metadata": {},
   "outputs": [],
   "source": [
    "def creatproblem(n,k,m):\n",
    "        positive_var = list(ascii_lowercase)[:n]\n",
    "        negative_var = [var.upper() for var in positive_var]\n",
    "        variables = positive_var + negative_var\n",
    "        problem = []\n",
    "        threshold = 10       \n",
    "        i = 0\n",
    "        comb = list(combinations(variables,k))\n",
    "        \n",
    "        while i<threshold:\n",
    "            c = random.sample(comb,m)\n",
    "            if c not in problem:\n",
    "                problem.append(c)\n",
    "                i += 1\n",
    "        \n",
    "        problems_new = []\n",
    "        for c in problem:\n",
    "            temp = []\n",
    "            temp = [list(sub) for sub in c]\n",
    "            problems_new.append(temp)\n",
    "        return  variables,problems_new \n",
    "     \n",
    "    \n",
    " \n",
    "        "
   ]
  },
  {
   "cell_type": "code",
   "execution_count": null,
   "metadata": {},
   "outputs": [],
   "source": [
    "def random_assign(variables,n):\n",
    "    litral = list(np.random.choice(2,n))\n",
    "    negation = [abs(i-1) for i in litral]\n",
    "    assign = litral + negation\n",
    "    return dict(zip(variables,assign))"
   ]
  },
  {
   "cell_type": "code",
   "execution_count": null,
   "metadata": {},
   "outputs": [],
   "source": [
    "def heruistic(problem,assign):\n",
    "    count = 0\n",
    "    for sub in problem:       \n",
    "        encode = [assign[val] for val in sub]\n",
    "        count += any(encode)\n",
    "    return count    \n",
    "    \n",
    "    "
   ]
  },
  {
   "cell_type": "code",
   "execution_count": null,
   "metadata": {},
   "outputs": [],
   "source": [
    "def next_node(current):\n",
    "    key = list(current.keys())\n",
    "    key.sort()\n",
    "    key = key[0:len(key)//2]\n",
    "    successors = []\n",
    "    for k in key:\n",
    "        temp = current.copy()\n",
    "        temp[k] = abs(temp[k]-1)\n",
    "        temp[chr(ord(k)+32)] = abs(temp[chr(ord(k)+32)]-1)\n",
    "        successors.append(temp)  \n",
    "    \n",
    "\n",
    "    \n",
    "    return successors\n",
    "    "
   ]
  },
  {
   "cell_type": "code",
   "execution_count": null,
   "metadata": {},
   "outputs": [],
   "source": [
    "print(next_node({'a': 0, 'b': 0, 'c': 0, 'A': 1, 'B': 1, 'C': 1}))"
   ]
  },
  {
   "cell_type": "code",
   "execution_count": null,
   "metadata": {},
   "outputs": [],
   "source": [
    "def select_node(succs,problem):\n",
    "    heruistic_val = []\n",
    "    for i in succs:\n",
    "        heruistic_val.append(heruistic(problem,i))\n",
    "    index = heruistic_val.index(max(heruistic_val))\n",
    "    return succs[index]"
   ]
  },
  {
   "cell_type": "code",
   "execution_count": null,
   "metadata": {},
   "outputs": [],
   "source": [
    "def check_goal_state(state,problem):\n",
    "    count = 0\n",
    "    for sub in problem:       \n",
    "        encode = [state[val] for val in sub]\n",
    "        count += any(encode)\n",
    "    return len(problem) == count"
   ]
  },
  {
   "cell_type": "code",
   "execution_count": null,
   "metadata": {},
   "outputs": [],
   "source": [
    "def hill_climbing(current_state,problem,step):\n",
    "    if step == 10000:\n",
    "        print('halted at depth',step)\n",
    "        return\n",
    "    if check_goal_state(current_state,problem)==True:\n",
    "        print(current_state,step)\n",
    "        return \n",
    "    else:\n",
    "        step += 1\n",
    "        successor = next_node(current_state)\n",
    "        new_node = select_node(successor,problem)\n",
    "        hill_climbing(new_node,problem,step)"
   ]
  },
  {
   "cell_type": "code",
   "execution_count": null,
   "metadata": {},
   "outputs": [],
   "source": [
    "n = 2\n",
    "k = 3\n",
    "m = 2\n",
    "var,prob = creatproblem(n,k,m)\n",
    "print(var)\n",
    "for i in prob:\n",
    "    print(i)\n",
    "    "
   ]
  },
  {
   "cell_type": "code",
   "execution_count": null,
   "metadata": {},
   "outputs": [],
   "source": [
    "start_state = random_assign(var,n)\n",
    "print(start_state,prob[0])\n",
    "# start_state = {'a': 0, 'b': 0, 'c': 0, 'd': 0, 'e': 0, 'f':0,'A': 1, 'B': 1, 'C': 1, 'D': 1, 'E': 1, 'F':1}\n",
    "hill_climbing(start_state,prob[0],0)"
   ]
  },
  {
   "cell_type": "code",
   "execution_count": null,
   "metadata": {},
   "outputs": [],
   "source": [
    "print(check_goal_state({'a': 0, 'b': 1, 'c': 0, 'd': 1, 'A': 1, 'B': 0, 'C': 1, 'D': 0},prob[7]))"
   ]
  },
  {
   "attachments": {},
   "cell_type": "markdown",
   "metadata": {},
   "source": [
    "#Beam search "
   ]
  },
  {
   "cell_type": "code",
   "execution_count": null,
   "metadata": {},
   "outputs": [],
   "source": [
    "def heruistic(problem,assign):\n",
    "    count = 0\n",
    "    for sub in problem:       \n",
    "        encode = [assign[val] for val in sub]\n",
    "        count += any(encode)\n",
    "    return count"
   ]
  },
  {
   "cell_type": "code",
   "execution_count": null,
   "metadata": {},
   "outputs": [],
   "source": [
    "def select_node_beam(succs,problem,beamwidth):\n",
    "    heruistic_val = []\n",
    "    beam_nodes = []\n",
    "    for i in succs:\n",
    "        heruistic_val.append(heruistic(problem,i))\n",
    "    for i in range(beamwidth):\n",
    "        index = heruistic_val.index(max(heruistic_val))\n",
    "        beam_nodes.append(succs[index])\n",
    "        succs.remove(succs[index])\n",
    "        \n",
    "    return beam_nodes\n"
   ]
  },
  {
   "cell_type": "code",
   "execution_count": null,
   "metadata": {},
   "outputs": [],
   "source": []
  },
  {
   "cell_type": "code",
   "execution_count": null,
   "metadata": {},
   "outputs": [],
   "source": [
    "def check_goal_state(state,problem,beamwidth):\n",
    "    count = 0\n",
    "    for sub in problem:       \n",
    "        encode = [state[val] for val in sub]\n",
    "        count += any(encode)\n",
    "    return len(problem) == count"
   ]
  },
  {
   "cell_type": "code",
   "execution_count": null,
   "metadata": {},
   "outputs": [],
   "source": [
    "def next_node_beam(succs):\n",
    "    nextnode= []\n",
    "    for current in succs:\n",
    "        key = list(current.keys())\n",
    "        key.sort()\n",
    "        key = key[0:len(key)//2]\n",
    "        successors = []\n",
    "        for k in key:\n",
    "            temp = current.copy()\n",
    "            temp[k] = abs(temp[k]-1)\n",
    "            temp[chr(ord(k)+32)] = abs(temp[chr(ord(k)+32)]-1)\n",
    "            successors.append(temp)\n",
    "            nextnode.append(temp)\n",
    "        \n",
    "    return nextnode"
   ]
  },
  {
   "cell_type": "code",
   "execution_count": null,
   "metadata": {},
   "outputs": [],
   "source": [
    "def beam_search(start,problem,step,beamwidth):\n",
    "    if step == 10000:\n",
    "        print('halted at depth',step)\n",
    "        return\n",
    "    for current_state in start:\n",
    "        print(current_state)\n",
    "        if check_goal_state(current_state,problem)==True:\n",
    "            print(current_state,step)\n",
    "            return \n",
    "    step +=1    \n",
    "    successor = next_node_beam(start,problem,beamwidth)\n",
    "    new_node = select_node_beam(successor,prob[0],beamwidth)\n",
    "    beam_search(start,problem,step,beamwidth)\n",
    "    "
   ]
  },
  {
   "cell_type": "code",
   "execution_count": null,
   "metadata": {},
   "outputs": [],
   "source": [
    "n = 5\n",
    "k = 3\n",
    "m = 5\n",
    "var,probl = creatproblem(n,k,m)\n",
    "print(var)\n",
    "for i in probl:\n",
    "    print(i)\n",
    "    "
   ]
  },
  {
   "cell_type": "code",
   "execution_count": null,
   "metadata": {},
   "outputs": [],
   "source": [
    "start_state = random_assign(var,n)\n",
    "print([start_state,start_state])\n"
   ]
  },
  {
   "attachments": {},
   "cell_type": "markdown",
   "metadata": {},
   "source": [
    "#Beam width should not exceed number of variable"
   ]
  },
  {
   "cell_type": "code",
   "execution_count": null,
   "metadata": {},
   "outputs": [],
   "source": [
    "beam_search([start_state,start_state],prob[2],0,1)"
   ]
  },
  {
   "cell_type": "code",
   "execution_count": null,
   "metadata": {},
   "outputs": [],
   "source": [
    "def heruistic(problem,assign):\n",
    "    count = 0\n",
    "    for sub in problem:       \n",
    "        encode = [assign[val] for val in sub]\n",
    "        count += any(encode)\n",
    "    return count\n"
   ]
  },
  {
   "cell_type": "code",
   "execution_count": null,
   "metadata": {},
   "outputs": [],
   "source": [
    "def check_goal_state(state,problem):\n",
    "    count = 0\n",
    "    for sub in problem:       \n",
    "        encode = [state[val] for val in sub]\n",
    "        count += any(encode)\n",
    "    return len(problem) == count"
   ]
  },
  {
   "cell_type": "code",
   "execution_count": null,
   "metadata": {},
   "outputs": [],
   "source": [
    "def select_node(succs,problem):\n",
    "    heruistic_val = []\n",
    "    for i in succs:\n",
    "        heruistic_val.append(heruistic(problem,i))\n",
    "    index = heruistic_val.index(max(heruistic_val))\n",
    "    return succs[index]"
   ]
  },
  {
   "cell_type": "code",
   "execution_count": null,
   "metadata": {},
   "outputs": [],
   "source": [
    "def nghd1(current):\n",
    "    key = list(current.keys())\n",
    "    key.sort()\n",
    "    key = key[0:len(key)//2]\n",
    "    successors = []\n",
    "    for k in key:\n",
    "        temp = current.copy()\n",
    "        temp[k] = abs(temp[k]-1)\n",
    "        temp[chr(ord(k)+32)] = abs(temp[chr(ord(k)+32)]-1)\n",
    "        successors.append(temp)   \n",
    "\n",
    "    \n",
    "    return successors"
   ]
  },
  {
   "cell_type": "code",
   "execution_count": null,
   "metadata": {},
   "outputs": [],
   "source": [
    "print(nghd1({'a': 1, 'b': 1, 'c': 1, 'd': 1, 'e': 1, 'A': 0, 'B': 0, 'C': 0, 'D': 0, 'E': 0}))"
   ]
  },
  {
   "cell_type": "code",
   "execution_count": null,
   "metadata": {},
   "outputs": [],
   "source": [
    "def nghd2(current):\n",
    "    key = list(current.keys())\n",
    "    key.sort()\n",
    "    key = key[0:len(key)//2]\n",
    "    successors = []\n",
    "    for j in range(0,len(key)-1):\n",
    "        for i in range(j,len(key)-1):\n",
    "            \n",
    "            temp = current.copy()\n",
    "            temp[key[i]] = abs(temp[key[i]]-1)\n",
    "            temp[key[i+1]] = abs(temp[key[i+1]]-1)\n",
    "            temp[chr(ord(key[i])+32)] = abs(temp[chr(ord(key[i])+32)]-1)\n",
    "            temp[chr(ord(key[i+1])+32)] = abs(temp[chr(ord(key[i+1])+32)]-1)\n",
    "            successors.append(temp)   \n",
    "\n",
    "    \n",
    "    return successors"
   ]
  },
  {
   "cell_type": "code",
   "execution_count": null,
   "metadata": {},
   "outputs": [],
   "source": [
    "print(nghd2({'a': 1, 'b': 1, 'c': 1, 'd': 1, 'e': 1, 'A': 0, 'B': 0, 'C': 0, 'D': 0, 'E': 0}))"
   ]
  },
  {
   "cell_type": "code",
   "execution_count": null,
   "metadata": {},
   "outputs": [],
   "source": [
    "def nghd3(current):\n",
    "    key = list(current.keys())\n",
    "    key.sort()\n",
    "    key = key[0:len(key)//2]\n",
    "    successors = []\n",
    "    for j in range(0,len(key)-2):\n",
    "        for k in range(j,len(key)-2):\n",
    "            for i in range(k,len(key)-2):               \n",
    "            \n",
    "                temp = current.copy()\n",
    "                temp[key[i]] = abs(temp[key[i]]-1)\n",
    "                temp[key[i+1]] = abs(temp[key[i+1]]-1)\n",
    "                temp[chr(ord(key[i])+32)] = abs(temp[chr(ord(key[i])+32)]-1)\n",
    "                temp[chr(ord(key[i+1])+32)] = abs(temp[chr(ord(key[i+1])+32)]-1)\n",
    "                successors.append(temp)   \n",
    "\n",
    "    \n",
    "    return successors"
   ]
  },
  {
   "cell_type": "code",
   "execution_count": null,
   "metadata": {},
   "outputs": [],
   "source": [
    "print(nghd3({'a': 1, 'b': 1, 'c': 1, 'd': 1, 'e': 1, 'A': 0, 'B': 0, 'C': 0, 'D': 0, 'E': 0}))"
   ]
  },
  {
   "cell_type": "code",
   "execution_count": null,
   "metadata": {},
   "outputs": [],
   "source": [
    "def Variable_Neighborhood1(current_state,problem,step):\n",
    "    if step == 10000:\n",
    "        print('halted at depth',step)\n",
    "        return\n",
    "    if check_goal_state(current_state,problem)==True:\n",
    "        return current_state\n",
    "        \n",
    "    else:\n",
    "        step += 1\n",
    "        successor = next_node(current_state)\n",
    "        new_node = nghd1(successor,problem)\n",
    "        Variable_Neighborhood(new_node,problem,step)"
   ]
  },
  {
   "cell_type": "code",
   "execution_count": null,
   "metadata": {},
   "outputs": [],
   "source": [
    "def Variable_Neighborhood2(current_state,problem,step):\n",
    "    if step == 10000:\n",
    "        print('halted at depth',step)\n",
    "        return\n",
    "    if check_goal_state(current_state,problem)==True:\n",
    "        return current_state\n",
    "         \n",
    "    else:\n",
    "        step += 1\n",
    "        successor = next_node(current_state)\n",
    "        new_node = nghd2(successor,problem)\n",
    "        Variable_Neighborhood(new_node,problem,step)"
   ]
  },
  {
   "cell_type": "code",
   "execution_count": null,
   "metadata": {},
   "outputs": [],
   "source": [
    "def Variable_Neighborhood3(current_state,problem,step):\n",
    "    if step == 10000:\n",
    "        print('halted at depth',step)\n",
    "        return\n",
    "    if check_goal_state(current_state,problem)==True:\n",
    "        print(current_state,step)\n",
    "        return \n",
    "    else:\n",
    "        step += 1\n",
    "        successor = next_node(current_state)\n",
    "        new_node = nghd3(successor,problem)\n",
    "        Variable_Neighborhood(new_node,problem,step)"
   ]
  },
  {
   "cell_type": "code",
   "execution_count": null,
   "metadata": {},
   "outputs": [],
   "source": [
    "n = 5\n",
    "k = 3\n",
    "m = 5\n",
    "var,probl = creatproblem(n,k,m)\n",
    "print(var)\n",
    "for i in probl:\n",
    "    print(i)"
   ]
  },
  {
   "cell_type": "code",
   "execution_count": null,
   "metadata": {},
   "outputs": [],
   "source": [
    "start_state = random_assign(var,n)\n",
    "print([start_state,start_state])\n"
   ]
  },
  {
   "cell_type": "code",
   "execution_count": null,
   "metadata": {},
   "outputs": [],
   "source": [
    "var1 = start_state\n",
    "var2 = Variable_Neighborhood1(var1,prob[0],0)\n",
    "var3 = Variable_Neighborhood2(var2,prob[0],0)\n",
    "Variable_Neighborhood(var3,prob[0],0)"
   ]
  },
  {
   "cell_type": "code",
   "execution_count": null,
   "metadata": {},
   "outputs": [],
   "source": []
  }
 ],
 "metadata": {
  "kernelspec": {
   "display_name": "Python 3",
   "language": "python",
   "name": "python3"
  },
  "language_info": {
   "codemirror_mode": {
    "name": "ipython",
    "version": 3
   },
   "file_extension": ".py",
   "mimetype": "text/x-python",
   "name": "python",
   "nbconvert_exporter": "python",
   "pygments_lexer": "ipython3",
   "version": "3.10.10"
  },
  "vscode": {
   "interpreter": {
    "hash": "6bcdd5b554e336986760cdee4908e37bef9978827d4a09b01c7eb92b20cb0fc1"
   }
  }
 },
 "nbformat": 4,
 "nbformat_minor": 4
}
